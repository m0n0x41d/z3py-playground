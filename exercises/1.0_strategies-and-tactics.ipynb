{
 "cells": [
  {
   "cell_type": "markdown",
   "id": "ff098e8a-de6a-4447-ba81-c9a6148d106b",
   "metadata": {},
   "source": [
    "# Strategies and tactics\n",
    "\n",
    "In Z3 and alike solvers, there are closely interconnected sets of heuristic proof algorithms that have been carefully selected and manually tuned by really smart people. \n",
    "\n",
    "These sets, combinations of heuristics, are well optimized for solving a range of known problem classes but begin to perform poorly when encountering new classes of problems. As it stands, solvers can \"learn\" to solve new classes of problems only when a human expert effectively \"explains\" the appropriate search strategies to them.\n",
    "\n",
    "On the other hand, because these heuristics are created and refined by humans, they are relatively easy to understand and can be used as is, independently from the solvers, for solving problems on our own :)"
   ]
  },
  {
   "cell_type": "markdown",
   "id": "0de605cc-8d28-4fb8-885d-2fe24e9bf9fa",
   "metadata": {},
   "source": [
    "## How z3 works\n",
    "\n",
    "The general workflow of the Z3 solver involves managing a group of logical inference engines (known as orchestration). At a high level of abstraction, the \"big\" logical steps in the solution are represented as functions called **tactics**. \n",
    "\n",
    "These tactics are combined using tactical instructions, or **combinators**. Tactics handle constraint systems known as **Goals**.\n",
    "\n",
    "When a tactic is applied to a goal G, there are four possible outcomes:\n",
    "\n",
    "1. The tactic successfully shows that G can be achieved (i.e., it is satisfiable).\n",
    "2. The tactic successfully shows that G cannot be achieved (i.e., it is unsatisfiable).\n",
    "3. The tactic doesn't yet determine if G is satisfiable or not and generates a set (sequence) of subgoals.\n",
    "4. The tactic fails.\n",
    "\n",
    "Point 3 is reminiscent of the top-down approach in programming: decompose a complex problem into a set of simpler ones, then apply this approach to each subproblem.\n",
    "\n",
    "However, when we reduce the goal G to a sequence of subgoals G1, ..., Gn, we encounter the problem of transforming our model (constraint system) to meet the requirements of each specific subgoal. Solvers have an internal model transformer for this purpose."
   ]
  }
 ],
 "metadata": {
  "kernelspec": {
   "display_name": "Python 3 (ipykernel)",
   "language": "python",
   "name": "python3"
  },
  "language_info": {
   "codemirror_mode": {
    "name": "ipython",
    "version": 3
   },
   "file_extension": ".py",
   "mimetype": "text/x-python",
   "name": "python",
   "nbconvert_exporter": "python",
   "pygments_lexer": "ipython3",
   "version": "3.12.3"
  }
 },
 "nbformat": 4,
 "nbformat_minor": 5
}
