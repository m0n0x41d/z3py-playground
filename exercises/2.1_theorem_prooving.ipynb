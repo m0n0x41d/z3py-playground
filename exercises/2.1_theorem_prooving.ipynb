{
 "cells": [
  {
   "cell_type": "markdown",
   "id": "92d12ef1-e932-4a16-8aa3-c0a3bd427010",
   "metadata": {},
   "source": [
    "# SAT/SMT Solvers\n",
    "\n",
    "Understanding the basics of how Z3 works helps in formulating problems that the solver can handle effectively.\n",
    "\n",
    "Z3 and other SMT solvers are based on SAT (satisfiability problem) theory. SMT extends SAT by using predicates from various theories (numbers, arrays, bit-vectors, etc.), making them versatile tools for solving complex logical formulas.\n",
    "\n",
    "### SAT\n",
    "\n",
    "SAT determines the satisfiability of propositional logic formulas.\n",
    "\n",
    "A propositional logic formula is a combination of variables, True/False values, and operators (And, Or, Implies, Not). By assigning values to the variables, the formula outputs true or false, akin to logic circuits.\n",
    "\n",
    "### SMT\n",
    "\n",
    "SMT extends SAT by using predicates from various theories (numbers, arrays, bit-vectors). The key question is whether there exists an assignment of values that makes the formula true. SMT solvers search for such assignments rather than computing a final value. This task is in the NP complexity class, meaning the search space is exponential, but each solution can be quickly verified.\n",
    "\n",
    "SMT solvers use advanced heuristics and techniques such as backjumping, two watched literals, conflict-directed clause learning, and random restarts to efficiently navigate the solution space.\n",
    "\n",
    "### SMT Solver Structure\n",
    "\n",
    "SMT solvers operate on two levels: handling complex logical structures and dealing with numbers, formulas, etc. Ideally, specific domain facts are represented as Boolean variables, and the SMT solver finds satisfying assignments. In practice, specialized solvers for different mathematical domains are used to interpret conditions and solve parts of the problem, ensuring satisfiability within the underlying theories. This integration of solving techniques with domain-specific theories is the essence of SMT (Satisfiability Modulo Theories).\n",
    "\n",
    "---\n",
    "\n",
    "Lets take a look on some examples.\n",
    "\n",
    "## 1. Pigeonholes\n",
    "\n",
    "Prove that if you try to put `n+1` pigeons into `n` pigeonholes, at least one pigeonhole will contain more than one pigeon.\n"
   ]
  },
  {
   "cell_type": "code",
   "execution_count": 32,
   "id": "edf425d0-3061-4598-ac80-84a04851ca4a",
   "metadata": {},
   "outputs": [
    {
     "name": "stdout",
     "output_type": "stream",
     "text": [
      "Theorem holds.\n"
     ]
    }
   ],
   "source": [
    "from z3 import *\n",
    "\n",
    "\n",
    "\n",
    "n = Int('n')\n",
    "n_plus_one_pigeons = n + 1\n",
    "\n",
    "# these are magic constants to limit calculations below,\n",
    "# either way z3 will hang forever.\n",
    "PIGEONHOLES = 10\n",
    "PIGEONS = PIGEONHOLES + 1\n",
    "# mapper pigeon to pigeonhole\n",
    "pigeonhole = Function('pigeonhole', IntSort(), IntSort())\n",
    "\n",
    "constraints = [n > 0]\n",
    "for i in range(PIGEONS):  # Up to n + 1 pigeons\n",
    "    constraints.append(Implies(i < n_plus_one_pigeons, And(pigeonhole(i) >= 0, pigeonhole(i) < n)))\n",
    "\n",
    "# Each pigeonhole can hold at most one pigeon (this needs to be enforced)\n",
    "at_least_one_pigeonhole = Or([Sum([If(pigeonhole(j) == i, 1, 0) for j in range(PIGEONS)]) > 1 for i in range(PIGEONHOLES)])\n",
    "\n",
    "s = Solver()\n",
    "s.add(n == PIGEONHOLES)  \n",
    "s.add(*constraints)\n",
    "s.add(Not(at_least_one_pigeonhole)) \n",
    "\n",
    "if s.check() == sat:\n",
    "    print(\"Counterexample found:\")\n",
    "    print(s.model())\n",
    "else:\n",
    "    print(\"Theorem holds.\")\n"
   ]
  },
  {
   "cell_type": "code",
   "execution_count": null,
   "id": "efb2cec0-c8ce-4733-af38-c340dbe32423",
   "metadata": {},
   "outputs": [],
   "source": [
    "## 2. Proving the Correctness of Dijkstra's Algorithm properties"
   ]
  },
  {
   "cell_type": "code",
   "execution_count": 34,
   "id": "e2a03dde-4ef0-4fc4-b997-0641b1b638c9",
   "metadata": {},
   "outputs": [
    {
     "name": "stdout",
     "output_type": "stream",
     "text": [
      "ok.\n"
     ]
    }
   ],
   "source": [
    "from z3 import *\n",
    "\n",
    "# graph and distances\n",
    "n = 5\n",
    "graph = Function('graph', IntSort(), IntSort(), RealSort())\n",
    "dist = Function('dist', IntSort(), RealSort())\n",
    "src = Int('src')\n",
    "tgt = Int('tgt')\n",
    "\n",
    "# shortest path condition\n",
    "shortest_path = ForAll([src, tgt], Implies(And(src != tgt, src >= 0, src < n, tgt >= 0, tgt < n), \n",
    "                dist(tgt) <= dist(src) + graph(src, tgt)))\n",
    "\n",
    "s = Solver()\n",
    "s.add(shortest_path)\n",
    "\n",
    "if s.check() == sat:\n",
    "    print(\"ok.\")\n",
    "else:\n",
    "    print(\"not ok.\")\n"
   ]
  },
  {
   "cell_type": "code",
   "execution_count": null,
   "id": "1e450c38-7c68-4bb5-9007-9aae1b4a611f",
   "metadata": {},
   "outputs": [],
   "source": [
    "## 3. The Fundamental Theorem of Arithmetic"
   ]
  },
  {
   "cell_type": "code",
   "execution_count": 44,
   "id": "4149a392-7d63-41c8-afd3-f875f949af43",
   "metadata": {},
   "outputs": [
    {
     "name": "stdout",
     "output_type": "stream",
     "text": [
      "The world is working.\n",
      "[n = 2]\n"
     ]
    }
   ],
   "source": [
    "from z3 import *\n",
    "\n",
    "a = Int('a')\n",
    "b = Int('b')\n",
    "c = Int('c')\n",
    "d = Int('d')\n",
    "n = Int('n')\n",
    "\n",
    "\n",
    "# clause that a number is prime\n",
    "def is_prime(x):\n",
    "    return And(x > 1, ForAll([a, b], Implies(a * b == x, Or(a == 1, b == 1))))\n",
    "\n",
    "# if two factorizations of n are the same, the sets of prime factors are identical\n",
    "unique_factorization = ForAll([c, d], Implies(And(c * d == n, is_prime(c), is_prime(d)), Exists([a, b], And(a * b == n, is_prime(a), is_prime(b), a == c, b == d))))\n",
    "\n",
    "s = Solver()\n",
    "s.add(n > 1)\n",
    "s.add(unique_factorization)\n",
    "\n",
    "if s.check() == sat:\n",
    "    print(\"The world is working.\")\n",
    "    print(s.model())\n",
    "else:\n",
    "    print(\"We are doomed, or you screwed in the goal spec.\")\n"
   ]
  },
  {
   "cell_type": "markdown",
   "id": "971b3e72-b941-4f56-bde2-6d3c98a497f9",
   "metadata": {},
   "source": [
    "\n",
    "\n",
    "## 4. Proving Cantor's Diagonalization Argument\n",
    "\n",
    "Description: Prove that the set of all real numbers between 0 and 1 is uncountable using Cantor's diagonalization argument. This theorem shows that for any supposed list of all real numbers, we can construct a real number not on the list.\n",
    "\n",
    "### Cantor's Diagonalization Argument\n",
    "\n",
    "1. Assume that we have a list of all real numbers between 0 and 1.\n",
    "2. Construct a new real number by changing the *i*-th digit of the *i*-th number on the list.\n",
    "3. This new number cannot be on the list, as it differs from the *i*-th number in the *i*-th digit.\n",
    "\n",
    "We'll demonstrate this idea by proving that no list of real numbers can contain all real numbers between 0 and 1."
   ]
  },
  {
   "cell_type": "code",
   "execution_count": 50,
   "id": "eb1ca5d8-e133-423f-a1ff-06bb1b19a600",
   "metadata": {},
   "outputs": [
    {
     "name": "stdout",
     "output_type": "stream",
     "text": [
      "Cantor's diagonalization argument holds: The set is uncountable.\n"
     ]
    }
   ],
   "source": [
    "from z3 import *\n",
    "\n",
    "n = 10  # sequense len var\n",
    "reals = [Real(f'r_{i}') for i in range(n)]\n",
    "\n",
    "digits = [[Int(f'd_{i}_{j}') for j in range(n)] for i in range(n)]\n",
    "digit_constraints = [And(digits[i][j] >= 0, digits[i][j] <= 9) for i in range(n) for j in range(n)]\n",
    "\n",
    "# some a new real number not in the list\n",
    "new_digits = [If(digits[i][i] == 9, 0, digits[i][i] + 1) for i in range(n)]\n",
    "new_real = Sum([new_digits[i] * 10**(-i-1) for i in range(n)])\n",
    "\n",
    "# the new real number is diff from each number in the list\n",
    "differences = [Or([digits[i][j] != new_digits[j] for j in range(n)]) for i in range(n)]\n",
    "\n",
    "s = Solver()\n",
    "s.add(digit_constraints)\n",
    "s.add(differences)\n",
    "\n",
    "if s.check() == sat:\n",
    "    print(\"Cantor's diagonalization argument holds: The set is uncountable.\")\n",
    "    #print(s.model())\n",
    "else:\n",
    "    print(\"The set is countable (unexpected result).\")\n"
   ]
  }
 ],
 "metadata": {
  "kernelspec": {
   "display_name": "Python 3 (ipykernel)",
   "language": "python",
   "name": "python3"
  },
  "language_info": {
   "codemirror_mode": {
    "name": "ipython",
    "version": 3
   },
   "file_extension": ".py",
   "mimetype": "text/x-python",
   "name": "python",
   "nbconvert_exporter": "python",
   "pygments_lexer": "ipython3",
   "version": "3.12.3"
  }
 },
 "nbformat": 4,
 "nbformat_minor": 5
}
