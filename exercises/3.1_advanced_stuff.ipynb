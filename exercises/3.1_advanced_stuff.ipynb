{
 "cells": [
  {
   "cell_type": "markdown",
   "id": "7b3629cb-38b7-4d6d-a5e2-2661aea48421",
   "metadata": {},
   "source": [
    "# Expressions, Sorts, and Declarations\n",
    "\n",
    "In Z3, expressions, sorts, and declarations are represented as Abstract Syntax Trees. An AST functions as a directed acyclic graph. Every expression is associated with a specific sort (type). We can retrieve the sort of an expression using the `sort()` method.\n",
    "\n",
    "### Expressions in Z3\n",
    "\n",
    "Expressions in Z3 are categorized into three basic groups: applications, quantifiers, and bound/free variables.\n",
    "\n",
    "**Applications** are sufficient for solving problems that do not involve universal/existential quantifiers. A universal quantifier for `x` requires a condition to be true for all values of `x`, whereas an existential quantifier for `x` requires the condition to be true for at least one value of `x`.\n",
    "\n",
    "In Z3, variables do not exist formally; technically, they are constants represented as functions (applications) with zero arguments within the engine. For instance, `Int('x')` is essentially the declaration of an integer function `x()`.\n",
    "\n",
    "Each application is associated with its own declaration (which serves as a reference in some sense) and contains zero or more arguments. The `decl()` method returns the declaration associated with the application. The `num_args()` method returns the number of arguments of the application, and `arg(i)` returns the `i`-th argument. The function `is_expr(n)` returns `True` if `n` is an expression. Similarly, `is_app(n)` (or `is_func_decl(n)`) returns `True` if `n` is an application (or a declaration).\n",
    "\n",
    "### Built-in Declarations\n",
    "\n",
    "Built-in declarations are identified by their kind (type or category). This can be accessed through the `kind()` method. A comprehensive list of all built-in declarations can be found in the `z3consts.py` file (or `z3_api.h` header) included in the Z3 distribution.\n",
    "\n",
    "### Simplifying Expressions\n",
    "\n",
    "Expressions can be simplified by replacing subexpressions using the `substitute` function.\n",
    "\n",
    "---\n",
    "\n",
    "#### Lets observe these things while solving simple linear equation:"
   ]
  },
  {
   "cell_type": "code",
   "execution_count": 2,
   "id": "a3c07126-4b4e-4427-ac39-74a0e09cf533",
   "metadata": {},
   "outputs": [
    {
     "name": "stdout",
     "output_type": "stream",
     "text": [
      "Variable x:\n",
      "  is expression:  True\n",
      "  declaration:    x\n",
      "  sort:           Int\n",
      "\n",
      "Variable y:\n",
      "  is expression:  True\n",
      "  declaration:    y\n",
      "  sort:           Int\n",
      "\n",
      "Equation 3x + 2y == 7:\n",
      "  is expression:  True\n",
      "  is application: True\n",
      "  declaration:    ==\n",
      "  num args:       2\n",
      "  arg( 0 ) -> 3*x + 2*y\n",
      "  arg( 1 ) -> 7\n",
      "  sort:           Bool\n",
      "\n",
      "Simplified Equation:  3*x + 2*y == 7\n",
      "\n",
      "got solution:\n",
      "  x = 1\n",
      "  y = 2\n"
     ]
    }
   ],
   "source": [
    "from z3 import *\n",
    "\n",
    "x = Int('x')\n",
    "y = Int('y')\n",
    "\n",
    "# our equation 3x + 2y = 7\n",
    "equation = 3 * x + 2 * y == 7\n",
    "\n",
    "# info about vars\n",
    "print(\"Variable x:\")\n",
    "print(\"  is expression: \", is_expr(x))\n",
    "print(\"  declaration:   \", x.decl())\n",
    "print(\"  sort:          \", x.sort())\n",
    "print()\n",
    "\n",
    "print(\"Variable y:\")\n",
    "print(\"  is expression: \", is_expr(y))\n",
    "print(\"  declaration:   \", y.decl())\n",
    "print(\"  sort:          \", y.sort())\n",
    "print()\n",
    "\n",
    "# info about equation it self\n",
    "print(\"Equation 3x + 2y == 7:\")\n",
    "print(\"  is expression: \", is_expr(equation))\n",
    "print(\"  is application:\", is_app(equation))\n",
    "print(\"  declaration:   \", equation.decl())\n",
    "print(\"  num args:      \", equation.num_args())\n",
    "for i in range(equation.num_args()):\n",
    "    print(\"  arg(\", i, \") ->\", equation.arg(i))\n",
    "print(\"  sort:          \", equation.sort())\n",
    "print()\n",
    "\n",
    "# simplify will not help us here though it's already in a simpliest form\n",
    "simplified_equation = simplify(equation)\n",
    "print(\"Simplified Equation: \", simplified_equation)\n",
    "print()\n",
    "\n",
    "# lets solve it\n",
    "s = Solver()\n",
    "s.add(equation)\n",
    "\n",
    "if s.check() == sat:\n",
    "    print(\"got solution:\")\n",
    "    solution = s.model()\n",
    "    print(\"  x =\", solution[x])\n",
    "    print(\"  y =\", solution[y])\n",
    "else:\n",
    "    print(\"unsat.\")"
   ]
  },
  {
   "cell_type": "markdown",
   "id": "09dc872d-b0a7-41b4-86cb-10ec9d18dd78",
   "metadata": {},
   "source": [
    "### Thus simplify did nothing, lets study it and `substitude` in this small example:"
   ]
  },
  {
   "cell_type": "code",
   "execution_count": 8,
   "id": "5ff37820-e265-4e2e-ac1e-9d154766e0e3",
   "metadata": {},
   "outputs": [
    {
     "name": "stdout",
     "output_type": "stream",
     "text": [
      "Original Complex Expression:  (x + y)*(x - y) + x*y - y*x + 2*x + 3*y - (2*y + 3*x)\n",
      "Simplified Expression:  (x + y)*(x + -1*y) + -1*x + y\n",
      "Substituted Expression:  z*(x + -1*y) + -1*x + y\n"
     ]
    }
   ],
   "source": [
    "from z3 import *\n",
    "\n",
    "# Declare integer variables x and y\n",
    "x, y = Ints('x y')\n",
    "\n",
    "# a \"complex\" expression\n",
    "expr = (x + y) * (x - y) + (x * y) - (y * x) + (2 * x + 3 * y) - (2 * y + 3 * x)\n",
    "print(\"Original Complex Expression: \", expr)\n",
    "\n",
    "# lets simplify expressions with z3 func\n",
    "simplified_expr = simplify(expr)\n",
    "print(\"Simplified Expression: \", simplified_expr)\n",
    "\n",
    "# Perform substitutions within the same expression\n",
    "# Substitute (x + y) with z and (x - y) with w in the simplified expression\n",
    "z = Int('z')\n",
    "w = Int('w')\n",
    "substituted_expr = substitute(simplified_expr, (x + y, z), (x - y, w))\n",
    "\n",
    "# Print the substituted expression\n",
    "print(\"Substituted Expression: \", substituted_expr)"
   ]
  },
  {
   "cell_type": "markdown",
   "id": "f6f4126a-84c2-4bea-a81b-b74a795be5d6",
   "metadata": {},
   "source": [
    "### Arrays\n",
    "\n",
    "#### Declaring Arrays\n",
    "\n",
    "Arrays are introduced in the program using the keyword `Array`. The constructor's first parameter is the name of the array, the second parameter is the type of the indices, and the third parameter is the type of the values. Arrays of a specific type can be defined more compactly using `Vector`, specifying the type as a prefix.\n",
    "\n",
    "#### Select and Store\n",
    "\n",
    "In John McCarthy's mathematical theory of computation (McCarthy coined the term \"Artificial Intelligence\" and created the Lisp language), the basic theory of arrays is typically defined by two axioms using the following operations:\n",
    "\n",
    "- **Select(a, i)**: Returns the value stored at position `i` in array `a`. In Z3 notation, this operation is written as `a[i]`.\n",
    "- **Store(a, i, v)**: Returns a new array identical to array `a`, except that the value at position `i` is `v`.\n",
    "\n",
    "---\n",
    "\n",
    "#### Few simple examples:"
   ]
  },
  {
   "cell_type": "code",
   "execution_count": 14,
   "id": "e1418fde-c649-4691-844a-ffd83701f6df",
   "metadata": {},
   "outputs": [
    {
     "name": "stdout",
     "output_type": "stream",
     "text": [
      "Store(Store(Store(A, 0, 5), 1, x + 3), 2, y - 2)\n",
      "ok\n",
      "solution:\n",
      "  A[0] = 5\n",
      "  A[1] = 7\n",
      "  A[2] = -2\n"
     ]
    }
   ],
   "source": [
    "from z3 import *\n",
    "\n",
    "# array A that store integers\n",
    "A = Array('A', IntSort(), IntSort())\n",
    "\n",
    "# and some int vars\n",
    "x, y, z = Ints('x y z')\n",
    "\n",
    "# we apply few Store's to our arrays:\n",
    "A = Store(A, 0, 5)\n",
    "A = Store(A, 1, x + 3)\n",
    "A = Store(A, 2, y - 2)\n",
    "\n",
    "# which will result in interesting nested structure:\n",
    "print(A)\n",
    "\n",
    "# a pinch of clause and solving\n",
    "constraint = A[0] + A[1] + A[2] >= 10\n",
    "\n",
    "s = Solver()\n",
    "s.add(constraint)\n",
    "\n",
    "# Check if the constraint is satisfiable\n",
    "if s.check() == sat:\n",
    "    print(\"ok\")\n",
    "    model = s.model()\n",
    "    print(\"solution:\")\n",
    "    print(\"  A[0] =\", model.evaluate(A[0]))\n",
    "    print(\"  A[1] =\", model.evaluate(A[1]))\n",
    "    print(\"  A[2] =\", model.evaluate(A[2]))\n",
    "else:\n",
    "    print(\"unsat\")"
   ]
  },
  {
   "cell_type": "markdown",
   "id": "60f79314-c222-4962-885e-c9911ca55944",
   "metadata": {},
   "source": [
    "#### Lets prove McCarthy properties of an array using the select and store operations. "
   ]
  },
  {
   "cell_type": "code",
   "execution_count": 17,
   "id": "4f1ca141-46db-4773-b65f-579cf902c1de",
   "metadata": {},
   "outputs": [
    {
     "name": "stdout",
     "output_type": "stream",
     "text": [
      "proved\n",
      "proved\n"
     ]
    }
   ],
   "source": [
    "from z3 import *\n",
    "\n",
    "\n",
    "A = Array('A', IntSort(), IntSort())\n",
    "x, y, v = Ints('x y v')\n",
    "\n",
    "# Prove that if x == y, then Select(Store(A, x, v), y) == v\n",
    "prove(Implies(x == y, Select(Store(A, x, v), y) == v))\n",
    "\n",
    "# Prove that if x != y, then Select(Store(A, x, v), y) == Select(A, y)\n",
    "prove(Implies(x != y, Select(Store(A, x, v), y) == Select(A, y)))\n"
   ]
  },
  {
   "cell_type": "markdown",
   "id": "956206dc-5d6d-4ed7-b388-48108a2f0065",
   "metadata": {},
   "source": [
    "### Quantifiers\n",
    "\n",
    "#### Quantitative Characteristics of Statements\n",
    "\n",
    "We have seen that Z3 can solve problems involving propositional logic, such as arithmetic, logical values, bit vectors, arrays, functions, and even algebraic data types, without using quantifiers.\n",
    "\n",
    "However, Z3 also allows for the quantification of statements, adding quantitative characteristics, resulting in predicate logic. In general, there is no universal procedure for resolving such statements, similar to the case with first-order logic.\n",
    "\n",
    "A universal quantifier requires that the statement be true for all possible values of the specified variables.\n",
    "\n",
    "---\n",
    "\n",
    "#### Universal Quantifier\n",
    "Prove a property involving a universal quantifier. Specifically, show that for all integers x, x * 2 is always even."
   ]
  },
  {
   "cell_type": "code",
   "execution_count": 22,
   "id": "39ff906b-a819-4639-99c9-50725f7af0fb",
   "metadata": {},
   "outputs": [
    {
     "name": "stdout",
     "output_type": "stream",
     "text": [
      "proved\n"
     ]
    }
   ],
   "source": [
    "from z3 import *\n",
    "\n",
    "x = Int('x')\n",
    "\n",
    "# ForAll is Universal Quantifier\n",
    "prop = ForAll(x, (x * 2) % 2 == 0)\n",
    "\n",
    "prove(prop)"
   ]
  },
  {
   "cell_type": "markdown",
   "id": "58603797-8a4e-4f25-898a-96a237a573e7",
   "metadata": {},
   "source": [
    "#### Existential Quantifier with Arrays\n",
    "Lets prove that there exists an index i in the array such that the value stored at index i is 0 using exestential quintifier."
   ]
  },
  {
   "cell_type": "code",
   "execution_count": 32,
   "id": "f2b47e1c-bd1d-49ca-81c0-a929ea7a0db3",
   "metadata": {},
   "outputs": [
    {
     "name": "stdout",
     "output_type": "stream",
     "text": [
      "The property holds for some i.\n"
     ]
    }
   ],
   "source": [
    "from z3 import *\n",
    "\n",
    "i = Int('i')\n",
    "size = 10\n",
    "A = Array('A', IntSort(), IntSort())\n",
    "\n",
    "# for example, let's initialize A such that A[k] = k - 1 for k in [0, size)\n",
    "init_conditions = [A == Store(A, k, k - 1) for k in range(size)]\n",
    "\n",
    "# and the property: there exists an i such that 0 <= i < size and A[i] == 0\n",
    "property = Exists(i, And(i >= 0, i < size, A[i] == 0))\n",
    "\n",
    "# Use a solver to find a counterexample\n",
    "s = Solver()\n",
    "s.add(init_conditions)\n",
    "s.add(Not(property))\n",
    "\n",
    "if s.check() == sat:\n",
    "    print(\"got counterexample:\")\n",
    "    print(s.model())\n",
    "else:\n",
    "    print(\"The property holds for some i.\")\n"
   ]
  },
  {
   "cell_type": "markdown",
   "id": "79369945-ed6d-41ba-b3c8-6e29efb88c06",
   "metadata": {},
   "source": [
    "### Modeling OOP with Quantifiers\n",
    "\n",
    "Here is an example of how to model an object-oriented type system with single inheritance using Z3. This example demonstrates the use of quantifiers to define subtype relationships and checks their consistency."
   ]
  },
  {
   "cell_type": "code",
   "execution_count": 35,
   "id": "59c7751f-5432-4e16-9d4a-c4b45eed9972",
   "metadata": {},
   "outputs": [
    {
     "name": "stdout",
     "output_type": "stream",
     "text": [
      "The subtype relationships are consistent.\n",
      "[Animal = Type!val!0,\n",
      " Object = Type!val!0,\n",
      " Dog = Type!val!0,\n",
      " Cat = Type!val!0,\n",
      " Bird = Type!val!0,\n",
      " subtype = [else -> True]]\n"
     ]
    }
   ],
   "source": [
    "from z3 import *\n",
    "\n",
    "# sort to represent types\n",
    "Type = DeclareSort('Type')\n",
    "\n",
    "# subtype function to represent inheritance relationships\n",
    "subtype = Function('subtype', Type, Type, BoolSort())\n",
    "\n",
    "# some classically assumed types\n",
    "Object = Const('Object', Type)  # Base type\n",
    "Animal = Const('Animal', Type)  # Derived type from Object\n",
    "Dog = Const('Dog', Type)        # Derived type from Animal\n",
    "Cat = Const('Cat', Type)        # Derived type from Animal\n",
    "Bird = Const('Bird', Type)      # Derived type from Animal\n",
    "\n",
    "# Declare variables for use in quantifiers\n",
    "x, y, z = Consts('x y z', Type)\n",
    "\n",
    "# the axioms for the subtype relationships we assume\n",
    "axioms = [\n",
    "    # Every type is a subtype of itself\n",
    "    ForAll([x], subtype(x, x)),\n",
    "    \n",
    "    # Transitivity: if y is a subtype of x, and z is a subtype of y, then z is a subtype of x\n",
    "    ForAll([x, y, z], Implies(And(subtype(x, y), subtype(y, z)), subtype(x, z))),\n",
    "\n",
    "    # Anti-symmetry: if y is a subtype of x, and x is a subtype of y, then x is equal to y\n",
    "    ForAll([x, y], Implies(And(subtype(x, y), subtype(y, x)), x == y)),\n",
    "\n",
    "    # Object is the root type: all types are subtypes of Object\n",
    "    ForAll([x], subtype(Object, x)),\n",
    "\n",
    "    # Specific subtype relationships\n",
    "    subtype(Animal, Object),\n",
    "    subtype(Dog, Animal),\n",
    "    subtype(Cat, Animal),\n",
    "    subtype(Bird, Animal)\n",
    "]\n",
    "\n",
    "s = Solver()\n",
    "s.add(axioms)\n",
    "\n",
    "if s.check() == sat:\n",
    "    print(\"The subtype relationships are consistent.\")\n",
    "else:\n",
    "    print(\"The subtype relationships are inconsistent.\")\n",
    "\n",
    "# Optionally, print the model\n",
    "print(s.model())"
   ]
  },
  {
   "cell_type": "markdown",
   "id": "ae302fdc-1f2a-4b2a-a3c3-bfef1bc13a1b",
   "metadata": {},
   "source": [
    "### Optimization\n",
    "\n",
    "Z3 includes a built-in optimizer. \n",
    "By optimization, we do not mean internal optimization of the solving process but rather classical optimization problems. For instance, instead of merely finding a solution, you might want to find the maximum or minimum value, which is a typical optimization problem.\n",
    "\n",
    "---\n",
    "This are imaginary examples demonstrates how we can apply optimizers for decision making."
   ]
  },
  {
   "cell_type": "code",
   "execution_count": 40,
   "id": "5e5abda5-c2de-4200-8cc6-8c6e7ba49ab1",
   "metadata": {},
   "outputs": [
    {
     "name": "stdout",
     "output_type": "stream",
     "text": [
      "got optimal solution:\n",
      "Product X: 50\n",
      "Product Y: 0\n",
      "Maximum Profit: 2500\n"
     ]
    }
   ],
   "source": [
    "from z3 import *\n",
    "\n",
    "# decision variables\n",
    "product_x = Real('product_x')\n",
    "product_y = Real('product_y')\n",
    "profit = Real('profit')\n",
    "\n",
    "opt = Optimize()\n",
    "\n",
    "labor_hours = 100  # Total available labor hours\n",
    "raw_material = 80  # Total available raw materials\n",
    "\n",
    "opt.add(product_x * 2 + product_y * 3 <= labor_hours)  # Labor hours constraint\n",
    "opt.add(product_x * 1 + product_y * 2 <= raw_material)  # Raw materials constraint\n",
    "opt.add(product_x >= 0)\n",
    "opt.add(product_y >= 0)\n",
    "\n",
    "# the profit function\n",
    "opt.add(profit == product_x * 50 + product_y * 40) \n",
    "\n",
    "# for sure we want to maximize the profit\n",
    "opt.maximize(profit)\n",
    "\n",
    "if opt.check() == sat:\n",
    "    print(\"got optimal solution:\")\n",
    "    model = opt.model()\n",
    "    print(\"Product X:\", model[product_x])\n",
    "    print(\"Product Y:\", model[product_y])\n",
    "    print(\"Maximum Profit:\", model[profit])\n",
    "else:\n",
    "    print(\"unsat\")"
   ]
  },
  {
   "cell_type": "code",
   "execution_count": 42,
   "id": "9d530fe1-de24-40bf-b1c4-54bc6fd66b5e",
   "metadata": {},
   "outputs": [
    {
     "name": "stdout",
     "output_type": "stream",
     "text": [
      "solution found:\n",
      "Investment in Asset A: 30000\n",
      "Investment in Asset B: 0\n",
      "Investment in Asset C: 70000\n",
      "Total Return: 17000\n",
      "Total Risk: 3/25\n"
     ]
    }
   ],
   "source": [
    "from z3 import *\n",
    "\n",
    "investment_A = Real('investment_A')\n",
    "investment_B = Real('investment_B')\n",
    "investment_C = Real('investment_C')\n",
    "\n",
    "total_return = Real('total_return')\n",
    "total_risk = Real('total_risk')\n",
    "\n",
    "opt = Optimize()\n",
    "\n",
    "return_rate_A = 0.10  \n",
    "return_rate_B = 0.15  \n",
    "return_rate_C = 0.20 \n",
    "\n",
    "risk_A = 0.05 \n",
    "risk_B = 0.10  \n",
    "risk_C = 0.15 \n",
    "\n",
    "budget = 100000  # Total budget for investment\n",
    "max_risk = 0.12  # Maximum acceptable total risk\n",
    "\n",
    "opt.add(investment_A >= 0)\n",
    "opt.add(investment_B >= 0)\n",
    "opt.add(investment_C >= 0)\n",
    "opt.add(investment_A + investment_B + investment_C <= budget)\n",
    "\n",
    "opt.add(total_return == investment_A * return_rate_A + investment_B * return_rate_B + investment_C * return_rate_C)\n",
    "opt.add(total_risk == (investment_A * risk_A + investment_B * risk_B + investment_C * risk_C) / budget)\n",
    "\n",
    "opt.add(total_risk <= max_risk)\n",
    "\n",
    "opt.maximize(total_return)\n",
    "\n",
    "if opt.check() == sat:\n",
    "    print(\"solution found:\")\n",
    "    model = opt.model()\n",
    "    print(\"Investment in Asset A:\", model[investment_A])\n",
    "    print(\"Investment in Asset B:\", model[investment_B])\n",
    "    print(\"Investment in Asset C:\", model[investment_C])\n",
    "    print(\"Total Return:\", model[total_return])\n",
    "    print(\"Total Risk:\", model[total_risk])\n",
    "else:\n",
    "    print(\"unsat\")\n",
    "    print(opt.reason_unknown())"
   ]
  },
  {
   "cell_type": "markdown",
   "id": "7439516c-8296-4de2-ad46-5a4bce89760b",
   "metadata": {},
   "source": [
    "### Multiple Solvers\n",
    "\n",
    "When solving a complex problem, you can use multiple solvers simultaneously. Transferring conditions and formulas between them is straightforward."
   ]
  },
  {
   "cell_type": "code",
   "execution_count": 44,
   "id": "3ad307b0-2c42-4897-99cd-ffd930f4e99d",
   "metadata": {},
   "outputs": [
    {
     "name": "stdout",
     "output_type": "stream",
     "text": [
      "sat:\n",
      "Start Task 1: -2\n",
      "Start Task 2: -1\n",
      "Start Task 3: 0\n",
      "Duration Task 1: 1\n",
      "Duration Task 2: 1\n",
      "Duration Task 3: 1\n",
      "Resource Task 1: 1\n",
      "Resource Task 2: 2\n",
      "Resource Task 3: 3\n"
     ]
    }
   ],
   "source": [
    "from z3 import *\n",
    "\n",
    "start_task1 = Int('start_task1')\n",
    "start_task2 = Int('start_task2')\n",
    "start_task3 = Int('start_task3')\n",
    "duration_task1 = Int('duration_task1')\n",
    "duration_task2 = Int('duration_task2')\n",
    "duration_task3 = Int('duration_task3')\n",
    "\n",
    "end_task1 = Int('end_task1')\n",
    "end_task2 = Int('end_task2')\n",
    "end_task3 = Int('end_task3')\n",
    "\n",
    "resource_task1 = Int('resource_task1')\n",
    "resource_task2 = Int('resource_task2')\n",
    "resource_task3 = Int('resource_task3')\n",
    "\n",
    "total_resources = 10\n",
    "\n",
    "# solver for scheduling constraints\n",
    "s1 = Solver()\n",
    "s1.add(duration_task1 > 0, duration_task2 > 0, duration_task3 > 0)\n",
    "s1.add(end_task1 == start_task1 + duration_task1)\n",
    "s1.add(end_task2 == start_task2 + duration_task2)\n",
    "s1.add(end_task3 == start_task3 + duration_task3)\n",
    "\n",
    "# Task 1 must finish before Task 2 starts, Task 2 must finish before Task 3 starts\n",
    "s1.add(end_task1 <= start_task2)\n",
    "s1.add(end_task2 <= start_task3)\n",
    "\n",
    "# solver for resource management\n",
    "s2 = Solver()\n",
    "s2.add(resource_task1 > 0, resource_task2 > 0, resource_task3 > 0)\n",
    "s2.add(resource_task1 + resource_task2 + resource_task3 <= total_resources)\n",
    "\n",
    "# transfer scheduling constraints to the resource management solver\n",
    "s2.add(s1.assertions())\n",
    "\n",
    "# add constraints that link task durations to resource usage\n",
    "s2.add(resource_task1 == duration_task1 * 1) \n",
    "s2.add(resource_task2 == duration_task2 * 2)  \n",
    "s2.add(resource_task3 == duration_task3 * 3) \n",
    "\n",
    "\n",
    "if s2.check() == sat:\n",
    "    print(\"sat:\")\n",
    "    model = s2.model()\n",
    "    print(\"Start Task 1:\", model[start_task1])\n",
    "    print(\"Start Task 2:\", model[start_task2])\n",
    "    print(\"Start Task 3:\", model[start_task3])\n",
    "    print(\"Duration Task 1:\", model[duration_task1])\n",
    "    print(\"Duration Task 2:\", model[duration_task2])\n",
    "    print(\"Duration Task 3:\", model[duration_task3])\n",
    "    print(\"Resource Task 1:\", model[resource_task1])\n",
    "    print(\"Resource Task 2:\", model[resource_task2])\n",
    "    print(\"Resource Task 3:\", model[resource_task3])\n",
    "else:\n",
    "    print(\"unsat\")\n",
    "    print(s2.reason_unknown())"
   ]
  }
 ],
 "metadata": {
  "kernelspec": {
   "display_name": "Python 3 (ipykernel)",
   "language": "python",
   "name": "python3"
  },
  "language_info": {
   "codemirror_mode": {
    "name": "ipython",
    "version": 3
   },
   "file_extension": ".py",
   "mimetype": "text/x-python",
   "name": "python",
   "nbconvert_exporter": "python",
   "pygments_lexer": "ipython3",
   "version": "3.12.3"
  }
 },
 "nbformat": 4,
 "nbformat_minor": 5
}
