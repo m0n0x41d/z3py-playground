{
 "cells": [
  {
   "cell_type": "code",
   "execution_count": 25,
   "id": "6e53efdf-ee94-4292-a3f7-01255189a6f9",
   "metadata": {},
   "outputs": [
    {
     "name": "stdout",
     "output_type": "stream",
     "text": [
      "Original Formula: Or(And(a, Not(b)), Or(b, And(Not(a), c)))\n",
      "Simplified Formula: Or(c, b, a)\n"
     ]
    }
   ],
   "source": [
    "from z3 import *\n",
    "\n",
    "# Создание тактики для оптимизации портфеля\n",
    "portfolio_solver = Then(\n",
    "    With('simplify', mul2concat=True),\n",
    "    'normalize-bounds',\n",
    "    'lia2pb',\n",
    "    'pb2bv',\n",
    "    'bit-blast',\n",
    "    'sat'\n",
    ").solver()\n",
    "\n",
    "# Определение переменных\n",
    "stocks, bonds, real_estate = Reals('stocks bonds real_estate')\n",
    "risk, return_rate = Reals('risk return_rate')\n",
    "\n",
    "# Добавление ограничений\n",
    "portfolio_solver.add(stocks >= 0, bonds >= 0, real_estate >= 0)\n",
    "portfolio_solver.add(stocks + bonds + real_estate == 1)  # Общая аллокация должна быть 1\n",
    "portfolio_solver.add(risk <= 0.05)  # Лимит на риск\n",
    "portfolio_solver.add(return_rate >= 0.1)  # Минимальная норма прибыли\n",
    "\n",
    "# Уравнения, связывающие инвестиции с риском и доходностью\n",
    "portfolio_solver.add(risk == 0.1*stocks + 0.05*bonds + 0.2*real_estate)\n",
    "portfolio_solver.add(return_rate == 0.15*stocks + 0.07*bonds + 0.1*real_estate)\n",
    "\n",
    "# Проверка решения\n",
    "if portfolio_solver.check() == sat:\n",
    "    model = portfolio_solver.model()\n",
    "    print(\"Solution found:\")\n",
    "    for d in model.decls():\n",
    "        print(f\"{d.name()} = {model[d]}\")\n",
    "else:\n",
    "    print(\"No solution found.\")\n",
    "\n",
    "# Альтернативная задача портфеля\n",
    "alternative_solver = Then(\n",
    "    With('simplify', mul2concat=True),\n",
    "    'solve-eqs',\n",
    "    'bit-blast',\n",
    "    'aig',  # Использование инвертированных графов для сжатия логических формул\n",
    "    'sat'\n",
    ").solver()\n",
    "\n",
    "# Определение переменных\n",
    "tech_stocks, healthcare_stocks, bonds = Reals('tech_stocks healthcare_stocks bonds')\n",
    "risk, return_rate = Reals('risk return_rate')\n",
    "\n",
    "# Добавление ограничений\n",
    "alternative_solver.add(tech_stocks >= 0, healthcare_stocks >= 0, bonds >= 0)\n",
    "alternative_solver.add(tech_stocks + healthcare_stocks + bonds == 1)  # Общая аллокация должна быть 1\n",
    "alternative_solver.add(risk <= 0.07)  # Лимит на риск\n",
    "alternative_solver.add(return_rate >= 0.12)  # Минимальная норма прибыли\n",
    "\n",
    "# Уравнения, связывающие инвестиции с риском и доходностью\n",
    "alternative_solver.add(risk == 0.12*tech_stocks + 0.06*healthcare_stocks + 0.03*bonds)\n",
    "alternative_solver.add(return_rate == 0.18*tech_stocks + 0.1*healthcare_stocks + 0.05*bonds)\n",
    "\n",
    "# Проверка решения\n",
    "if alternative_solver.check() == sat:\n",
    "    model = alternative_solver.model()\n",
    "    print(\"Alternative solution found:\")\n",
    "    for d in model.decls():\n",
    "        print(f\"{d.name()} = {model[d]}\")\n",
    "else:\n",
    "    print(\"No alternative solution found.\")"
   ]
  }
 ],
 "metadata": {
  "kernelspec": {
   "display_name": "Python 3 (ipykernel)",
   "language": "python",
   "name": "python3"
  },
  "language_info": {
   "codemirror_mode": {
    "name": "ipython",
    "version": 3
   },
   "file_extension": ".py",
   "mimetype": "text/x-python",
   "name": "python",
   "nbconvert_exporter": "python",
   "pygments_lexer": "ipython3",
   "version": "3.12.3"
  }
 },
 "nbformat": 4,
 "nbformat_minor": 5
}
